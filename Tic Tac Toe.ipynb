{
 "cells": [
  {
   "cell_type": "markdown",
   "id": "4339803f",
   "metadata": {},
   "source": [
    "# TIC TAC TOE"
   ]
  },
  {
   "cell_type": "code",
   "execution_count": 1,
   "id": "b35b978a",
   "metadata": {},
   "outputs": [],
   "source": [
    "from IPython.display import clear_output\n",
    "\n",
    "# Creating game board \n",
    "\n",
    "def Display_Board(board):\n",
    "    clear_output()\n",
    "    print(' Tic Tac Toe')\n",
    "    print(' ')\n",
    "    print(board[7],' | ',board[8],' | ',board[9])\n",
    "    print('-------------')\n",
    "    print(board[4],' | ',board[5],' | ',board[6])\n",
    "    print('-------------')\n",
    "    print(board[1],' | ',board[2],' | ',board[3])"
   ]
  },
  {
   "cell_type": "code",
   "execution_count": 2,
   "id": "482070e4",
   "metadata": {},
   "outputs": [],
   "source": [
    "# creating the player input\n",
    "\n",
    "def Player_Input():\n",
    "    \n",
    "    marker = ''\n",
    "    \n",
    "    # asking to choose a marker\n",
    "    while marker != 'X' and marker != 'O':\n",
    "        marker = input('Choose your Marker ( X / O ): ').upper()\n",
    "        \n",
    "        # assign marker to player 1\n",
    "        Player_1 = marker\n",
    "        \n",
    "        # assign marker to player 2\n",
    "        if Player_1 == 'X':\n",
    "            Player_2 = 'O'\n",
    "        else:\n",
    "            Player_2 = 'X'\n",
    "    \n",
    "    return (Player_1,Player_2)"
   ]
  },
  {
   "cell_type": "code",
   "execution_count": 3,
   "id": "b26d24db",
   "metadata": {},
   "outputs": [],
   "source": [
    "# take in marker and assign it to the board\n",
    "\n",
    "def Place_Marker(board,marker,position):\n",
    "    \n",
    "    board[position] = marker"
   ]
  },
  {
   "cell_type": "code",
   "execution_count": 4,
   "id": "16a35352",
   "metadata": {},
   "outputs": [],
   "source": [
    "# to check if the player won\n",
    "\n",
    "def Win_Check(board,marker):\n",
    "    \n",
    "    return (( board[1] == board[2] == board[3] == marker) or\n",
    "    ( board[4] == board[5] == board[6] == marker) or\n",
    "    ( board[7] == board[8] == board[9] == marker) or\n",
    "            \n",
    "    ( board[1] == board[4] == board[7] == marker) or\n",
    "    ( board[2] == board[5] == board[8] == marker) or\n",
    "    ( board[3] == board[6] == board[9] == marker) or\n",
    "            \n",
    "    ( board[1] == board[5] == board[9] == marker) or\n",
    "    ( board[3] == board[5] == board[7] == marker))"
   ]
  },
  {
   "cell_type": "code",
   "execution_count": 5,
   "id": "12bb3d63",
   "metadata": {},
   "outputs": [],
   "source": [
    "# choose a starting player\n",
    "\n",
    "import random\n",
    "\n",
    "def Choose_Fisrt():\n",
    "    \n",
    "    flip = random.randint(0,1)\n",
    "    \n",
    "    if flip == 0:\n",
    "        return 'Player_1'\n",
    "    else:\n",
    "        return 'Player_2'"
   ]
  },
  {
   "cell_type": "code",
   "execution_count": 6,
   "id": "fc76263a",
   "metadata": {},
   "outputs": [],
   "source": [
    "# to check if a space is empty\n",
    "\n",
    "def Space_Check(board, position):\n",
    "    \n",
    "    return board[position] == ' '"
   ]
  },
  {
   "cell_type": "code",
   "execution_count": 7,
   "id": "54c52186",
   "metadata": {},
   "outputs": [],
   "source": [
    "# to check if the board is full\n",
    "\n",
    "def Full_Board_Check(board):\n",
    "    \n",
    "    for i in range(1,10):\n",
    "        if Space_Check(board,i):\n",
    "            return False\n",
    "    return True"
   ]
  },
  {
   "cell_type": "code",
   "execution_count": 8,
   "id": "bc5e63cc",
   "metadata": {},
   "outputs": [],
   "source": [
    "# select the player position\n",
    "\n",
    "def Player_Choice(board):\n",
    "    position = 0\n",
    "    \n",
    "    while position not in range(1,10) and not Space_Check(board, position):\n",
    "        position = int(input('Enter Your Position: '))\n",
    "        \n",
    "    return position"
   ]
  },
  {
   "cell_type": "code",
   "execution_count": 9,
   "id": "7c1cefb6",
   "metadata": {},
   "outputs": [],
   "source": [
    "# check to play again\n",
    "\n",
    "def replay():\n",
    "\n",
    "    return input('Do you want to play again? ( Yes / No ): ').startswith('Y')"
   ]
  },
  {
   "cell_type": "code",
   "execution_count": 10,
   "id": "983a70e9",
   "metadata": {},
   "outputs": [
    {
     "name": "stdout",
     "output_type": "stream",
     "text": [
      " Tic Tac Toe\n",
      " \n",
      "X  |     |   \n",
      "-------------\n",
      "O  |  X  |  O\n",
      "-------------\n",
      "X  |  O  |  X\n",
      "Player 1 has won!!!\n",
      "Do you want to play again? ( Yes / No ): Y\n",
      "Choose your Marker ( X / O ): o\n",
      "Player_1 will play first.\n",
      "Ready to play? ( Y / N ): n\n",
      "Do you want to play again? ( Yes / No ): n\n"
     ]
    }
   ],
   "source": [
    "print('Welcome to Tic Tac Toe!!!')\n",
    "\n",
    "while True:\n",
    "    \n",
    "    # game setup (board, marker, first player)\n",
    "    \n",
    "    ## game board\n",
    "    the_board = [' '] * 10\n",
    "    \n",
    "    ## choose marker\n",
    "    player1_marker, player2_marker = Player_Input()\n",
    "    \n",
    "    ## first player\n",
    "    turn = Choose_Fisrt()\n",
    "    print(turn, 'will play first.')\n",
    "    \n",
    "    ## start game\n",
    "    play_game = input('Ready to play? ( Y / N ): ').upper()\n",
    "    if play_game == 'Y':\n",
    "        game_on = True\n",
    "    else:\n",
    "        game_on = False\n",
    "    \n",
    "    while game_on:\n",
    "        \n",
    "        # player 1 turn\n",
    "        if turn == 'Player_1':\n",
    "            \n",
    "            # board display\n",
    "            Display_Board(the_board)\n",
    "            \n",
    "            # choose position\n",
    "            position = Player_Choice(the_board)\n",
    "            \n",
    "            # place your marker at position\n",
    "            Place_Marker(the_board, player1_marker, position)\n",
    "            \n",
    "            # win check\n",
    "            if Win_Check(the_board, player1_marker):\n",
    "                Display_Board(the_board)\n",
    "                print('Player 1 has won!!!')\n",
    "                game_on = False\n",
    "            \n",
    "            # tie check\n",
    "            else:\n",
    "                if Full_Board_Check(the_board):\n",
    "                    Display_Board(the_board)\n",
    "                    print('Tie Game!!!')\n",
    "                    game_on = False\n",
    "                else:\n",
    "                    turn = 'Player_2'\n",
    "        \n",
    "        # player 2 turn\n",
    "        else:\n",
    "            \n",
    "            # board display\n",
    "            Display_Board(the_board)\n",
    "            \n",
    "            # Choose position\n",
    "            position = Player_Choice(the_board)\n",
    "            \n",
    "            # place marker at postion\n",
    "            Place_Marker(the_board, player2_marker, position)\n",
    "            \n",
    "            # win check\n",
    "            if Win_Check(the_board, player2_marker):\n",
    "                Display_Board(the_board)\n",
    "                print('Player 2 has won!!!')\n",
    "                game_on = False\n",
    "            \n",
    "            # tie Check\n",
    "            else:\n",
    "                if Full_Board_Check(the_board):\n",
    "                    Display_Board(the_board)\n",
    "                    print('Tie Game!!!')\n",
    "                    game_on = False\n",
    "                else:\n",
    "                    turn = 'Player_1'\n",
    "    if not replay():\n",
    "        break\n",
    "                    "
   ]
  }
 ],
 "metadata": {
  "kernelspec": {
   "display_name": "Python 3 (ipykernel)",
   "language": "python",
   "name": "python3"
  },
  "language_info": {
   "codemirror_mode": {
    "name": "ipython",
    "version": 3
   },
   "file_extension": ".py",
   "mimetype": "text/x-python",
   "name": "python",
   "nbconvert_exporter": "python",
   "pygments_lexer": "ipython3",
   "version": "3.9.12"
  }
 },
 "nbformat": 4,
 "nbformat_minor": 5
}
